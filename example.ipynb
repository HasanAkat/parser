{
 "cells": [
  {
   "cell_type": "code",
   "execution_count": 1,
   "metadata": {
    "colab": {
     "base_uri": "https://localhost:8080/",
     "height": 306
    },
    "colab_type": "code",
    "collapsed": true,
    "id": "e2NULMLN6eea",
    "outputId": "200aeb3e-331e-49ae-fc09-2eda630d43c4"
   },
   "outputs": [
    {
     "name": "stderr",
     "output_type": "stream",
     "text": [
      "[nltk_data] Downloading package punkt to\n",
      "[nltk_data]     C:\\Users\\ddnfn\\AppData\\Roaming\\nltk_data...\n",
      "[nltk_data]   Package punkt is already up-to-date!\n",
      "[nltk_data] Downloading package averaged_perceptron_tagger to\n",
      "[nltk_data]     C:\\Users\\ddnfn\\AppData\\Roaming\\nltk_data...\n",
      "[nltk_data]   Package averaged_perceptron_tagger is already up-to-\n",
      "[nltk_data]       date!\n",
      "[nltk_data] Downloading package universal_tagset to\n",
      "[nltk_data]     C:\\Users\\ddnfn\\AppData\\Roaming\\nltk_data...\n",
      "[nltk_data]   Package universal_tagset is already up-to-date!\n",
      "[nltk_data] Downloading package maxent_ne_chunker to\n",
      "[nltk_data]     C:\\Users\\ddnfn\\AppData\\Roaming\\nltk_data...\n",
      "[nltk_data]   Package maxent_ne_chunker is already up-to-date!\n",
      "[nltk_data] Downloading package stopwords to\n",
      "[nltk_data]     C:\\Users\\ddnfn\\AppData\\Roaming\\nltk_data...\n",
      "[nltk_data]   Package stopwords is already up-to-date!\n",
      "[nltk_data] Downloading package wordnet to\n",
      "[nltk_data]     C:\\Users\\ddnfn\\AppData\\Roaming\\nltk_data...\n",
      "[nltk_data]   Package wordnet is already up-to-date!\n",
      "[nltk_data] Downloading package brown to\n",
      "[nltk_data]     C:\\Users\\ddnfn\\AppData\\Roaming\\nltk_data...\n",
      "[nltk_data]   Package brown is already up-to-date!\n"
     ]
    },
    {
     "data": {
      "text/plain": "True"
     },
     "execution_count": 1,
     "metadata": {},
     "output_type": "execute_result"
    }
   ],
   "source": [
    "\n",
    "import nltk\n",
    "import wget as wget\n",
    "\n",
    "nltk.download('punkt')\n",
    "nltk.download('averaged_perceptron_tagger')\n",
    "nltk.download('universal_tagset')\n",
    "nltk.download('maxent_ne_chunker')\n",
    "nltk.download('stopwords')\n",
    "nltk.download('wordnet')\n",
    "nltk.download('brown')"
   ]
  },
  {
   "cell_type": "code",
   "execution_count": 2,
   "outputs": [
    {
     "name": "stdout",
     "output_type": "stream",
     "text": [
      "Requirement already satisfied: resume-parser in c:\\users\\ddnfn\\appdata\\local\\programs\\python\\python39\\lib\\site-packages (0.8.4)\n",
      "Requirement already satisfied: docx2txt>=0.8 in c:\\users\\ddnfn\\appdata\\local\\programs\\python\\python39\\lib\\site-packages (from resume-parser) (0.8)\n",
      "Requirement already satisfied: nltk>=3.5 in c:\\users\\ddnfn\\appdata\\local\\programs\\python\\python39\\lib\\site-packages (from resume-parser) (3.5)\n",
      "Requirement already satisfied: stemming>=1.0.1 in c:\\users\\ddnfn\\appdata\\local\\programs\\python\\python39\\lib\\site-packages (from resume-parser) (1.0.1)\n",
      "Requirement already satisfied: tika>=1.24 in c:\\users\\ddnfn\\appdata\\local\\programs\\python\\python39\\lib\\site-packages (from resume-parser) (1.24)\n",
      "Requirement already satisfied: pdfminer.six>=20200517 in c:\\users\\ddnfn\\appdata\\local\\programs\\python\\python39\\lib\\site-packages (from resume-parser) (20200517)\n",
      "Requirement already satisfied: numpy>=1.19.1 in c:\\users\\ddnfn\\appdata\\local\\programs\\python\\python39\\lib\\site-packages (from resume-parser) (1.23.5)\n",
      "Requirement already satisfied: pandas>=1.1.0 in c:\\users\\ddnfn\\appdata\\local\\programs\\python\\python39\\lib\\site-packages (from resume-parser) (1.5.2)\n",
      "Requirement already satisfied: spacy>=2.3.2 in c:\\users\\ddnfn\\appdata\\local\\programs\\python\\python39\\lib\\site-packages (from resume-parser) (2.3.8)\n",
      "Requirement already satisfied: phonenumbers>=8.12.7 in c:\\users\\ddnfn\\appdata\\local\\programs\\python\\python39\\lib\\site-packages (from resume-parser) (8.12.7)\n",
      "Requirement already satisfied: pdfplumber>=0.5.23 in c:\\users\\ddnfn\\appdata\\local\\programs\\python\\python39\\lib\\site-packages (from resume-parser) (0.5.23)\n",
      "Requirement already satisfied: click in c:\\users\\ddnfn\\appdata\\local\\programs\\python\\python39\\lib\\site-packages (from nltk>=3.5->resume-parser) (7.1.2)\n",
      "Requirement already satisfied: joblib in c:\\users\\ddnfn\\appdata\\local\\programs\\python\\python39\\lib\\site-packages (from nltk>=3.5->resume-parser) (0.16.0)\n",
      "Requirement already satisfied: regex in c:\\users\\ddnfn\\appdata\\local\\programs\\python\\python39\\lib\\site-packages (from nltk>=3.5->resume-parser) (2022.10.31)\n",
      "Requirement already satisfied: tqdm in c:\\users\\ddnfn\\appdata\\local\\programs\\python\\python39\\lib\\site-packages (from nltk>=3.5->resume-parser) (4.48.2)\n",
      "Requirement already satisfied: python-dateutil>=2.8.1 in c:\\users\\ddnfn\\appdata\\local\\programs\\python\\python39\\lib\\site-packages (from pandas>=1.1.0->resume-parser) (2.8.1)\n",
      "Requirement already satisfied: pytz>=2020.1 in c:\\users\\ddnfn\\appdata\\local\\programs\\python\\python39\\lib\\site-packages (from pandas>=1.1.0->resume-parser) (2020.1)\n",
      "Requirement already satisfied: sortedcontainers in c:\\users\\ddnfn\\appdata\\local\\programs\\python\\python39\\lib\\site-packages (from pdfminer.six>=20200517->resume-parser) (2.2.2)\n",
      "Requirement already satisfied: chardet in c:\\users\\ddnfn\\appdata\\local\\programs\\python\\python39\\lib\\site-packages (from pdfminer.six>=20200517->resume-parser) (3.0.4)\n",
      "Requirement already satisfied: pycryptodome in c:\\users\\ddnfn\\appdata\\local\\programs\\python\\python39\\lib\\site-packages (from pdfminer.six>=20200517->resume-parser) (3.16.0)\n",
      "Requirement already satisfied: Pillow>=7.0.0 in c:\\users\\ddnfn\\appdata\\local\\programs\\python\\python39\\lib\\site-packages (from pdfplumber>=0.5.23->resume-parser) (9.3.0)\n",
      "Requirement already satisfied: Wand in c:\\users\\ddnfn\\appdata\\local\\programs\\python\\python39\\lib\\site-packages (from pdfplumber>=0.5.23->resume-parser) (0.6.2)\n",
      "Requirement already satisfied: srsly<1.1.0,>=1.0.2 in c:\\users\\ddnfn\\appdata\\local\\programs\\python\\python39\\lib\\site-packages (from spacy>=2.3.2->resume-parser) (1.0.6)\n",
      "Requirement already satisfied: cymem<2.1.0,>=2.0.2 in c:\\users\\ddnfn\\appdata\\local\\programs\\python\\python39\\lib\\site-packages (from spacy>=2.3.2->resume-parser) (2.0.7)\n",
      "Requirement already satisfied: catalogue<1.1.0,>=0.0.7 in c:\\users\\ddnfn\\appdata\\local\\programs\\python\\python39\\lib\\site-packages (from spacy>=2.3.2->resume-parser) (1.0.2)\n",
      "Requirement already satisfied: blis<0.8.0,>=0.4.0 in c:\\users\\ddnfn\\appdata\\local\\programs\\python\\python39\\lib\\site-packages (from spacy>=2.3.2->resume-parser) (0.7.9)\n",
      "Requirement already satisfied: plac<1.2.0,>=0.9.6 in c:\\users\\ddnfn\\appdata\\local\\programs\\python\\python39\\lib\\site-packages (from spacy>=2.3.2->resume-parser) (1.1.3)\n",
      "Requirement already satisfied: thinc<7.5.0,>=7.4.1 in c:\\users\\ddnfn\\appdata\\local\\programs\\python\\python39\\lib\\site-packages (from spacy>=2.3.2->resume-parser) (7.4.6)\n",
      "Requirement already satisfied: preshed<3.1.0,>=3.0.2 in c:\\users\\ddnfn\\appdata\\local\\programs\\python\\python39\\lib\\site-packages (from spacy>=2.3.2->resume-parser) (3.0.8)\n",
      "Requirement already satisfied: wasabi<1.1.0,>=0.4.0 in c:\\users\\ddnfn\\appdata\\local\\programs\\python\\python39\\lib\\site-packages (from spacy>=2.3.2->resume-parser) (0.10.1)\n",
      "Requirement already satisfied: setuptools in c:\\users\\ddnfn\\appdata\\local\\programs\\python\\python39\\lib\\site-packages (from spacy>=2.3.2->resume-parser) (58.1.0)\n",
      "Requirement already satisfied: requests<3.0.0,>=2.13.0 in c:\\users\\ddnfn\\appdata\\local\\programs\\python\\python39\\lib\\site-packages (from spacy>=2.3.2->resume-parser) (2.24.0)\n",
      "Requirement already satisfied: murmurhash<1.1.0,>=0.28.0 in c:\\users\\ddnfn\\appdata\\local\\programs\\python\\python39\\lib\\site-packages (from spacy>=2.3.2->resume-parser) (1.0.9)\n",
      "Requirement already satisfied: six>=1.5 in c:\\users\\ddnfn\\appdata\\local\\programs\\python\\python39\\lib\\site-packages (from python-dateutil>=2.8.1->pandas>=1.1.0->resume-parser) (1.15.0)\n",
      "Requirement already satisfied: urllib3!=1.25.0,!=1.25.1,<1.26,>=1.21.1 in c:\\users\\ddnfn\\appdata\\local\\programs\\python\\python39\\lib\\site-packages (from requests<3.0.0,>=2.13.0->spacy>=2.3.2->resume-parser) (1.25.10)\n",
      "Requirement already satisfied: idna<3,>=2.5 in c:\\users\\ddnfn\\appdata\\local\\programs\\python\\python39\\lib\\site-packages (from requests<3.0.0,>=2.13.0->spacy>=2.3.2->resume-parser) (2.10)\n",
      "Requirement already satisfied: certifi>=2017.4.17 in c:\\users\\ddnfn\\appdata\\local\\programs\\python\\python39\\lib\\site-packages (from requests<3.0.0,>=2.13.0->spacy>=2.3.2->resume-parser) (2020.6.20)\n"
     ]
    }
   ],
   "source": [
    "!pip install resume-parser"
   ],
   "metadata": {
    "collapsed": false
   }
  },
  {
   "cell_type": "code",
   "execution_count": 2,
   "outputs": [],
   "source": [],
   "metadata": {
    "collapsed": false
   }
  },
  {
   "cell_type": "code",
   "execution_count": 3,
   "metadata": {
    "colab": {
     "base_uri": "https://localhost:8080/",
     "height": 289
    },
    "colab_type": "code",
    "collapsed": true,
    "id": "X4uzK3uU7BXt",
    "outputId": "4a5dafd8-f6b8-4965-c4c9-4e398858b038"
   },
   "outputs": [
    {
     "name": "stderr",
     "output_type": "stream",
     "text": [
      "--2022-12-27 20:00:02--  https://github.com/kbrajwani/resume_parser/raw/master/Kumar's%20Resume.pdf\n",
      "Resolving github.com (github.com)... 140.82.121.3\n",
      "Connecting to github.com (github.com)|140.82.121.3|:443... connected.\n",
      "HTTP request sent, awaiting response... 302 Found\n",
      "Location: https://raw.githubusercontent.com/kbrajwani/resume_parser/master/Kumar's%20Resume.pdf [following]\n",
      "--2022-12-27 20:00:02--  https://raw.githubusercontent.com/kbrajwani/resume_parser/master/Kumar's%20Resume.pdf\n",
      "Resolving raw.githubusercontent.com (raw.githubusercontent.com)... 185.199.109.133, 185.199.111.133, 185.199.110.133, ...\n",
      "Connecting to raw.githubusercontent.com (raw.githubusercontent.com)|185.199.109.133|:443... connected.\n",
      "HTTP request sent, awaiting response... 200 OK\n",
      "Length: 55603 (54K) [application/octet-stream]\n",
      "Saving to: 'Kumar\\'s Resume.pdf.7'\n",
      "\n",
      "     0K .......... .......... .......... .......... .......... 92% 2,41M 0s\n",
      "    50K ....                                                  100% 7,66M=0,02s\n",
      "\n",
      "2022-12-27 20:00:02 (2,55 MB/s) - 'Kumar\\'s Resume.pdf.7' saved [55603/55603]\n",
      "\n"
     ]
    }
   ],
   "source": [
    "!wget \"https://github.com/kbrajwani/resume_parser/raw/master/Kumar's%20Resume.pdf\""
   ]
  },
  {
   "cell_type": "code",
   "execution_count": 4,
   "outputs": [
    {
     "name": "stdout",
     "output_type": "stream",
     "text": [
      "DATA/Kumar's Resume.pdf\n",
      "DATA/OmerYldz_CV.pdf\n"
     ]
    }
   ],
   "source": [
    "import  os\n",
    "for fileName in os.listdir(\"DATA\"):\n",
    "    print(\"DATA/\"+fileName)"
   ],
   "metadata": {
    "collapsed": false
   }
  },
  {
   "cell_type": "code",
   "execution_count": 5,
   "metadata": {
    "colab": {
     "base_uri": "https://localhost:8080/",
     "height": 170
    },
    "colab_type": "code",
    "id": "7OC7mqfc6eeo",
    "outputId": "f3519eed-e171-476d-f6ca-10421077c324"
   },
   "outputs": [
    {
     "name": "stderr",
     "output_type": "stream",
     "text": [
      "C:\\Users\\ddnfn\\AppData\\Local\\Programs\\Python\\Python39\\lib\\site-packages\\spacy\\util.py:275: UserWarning: [W031] Model 'en_training' (0.0.0) requires spaCy v2.2 and is incompatible with the current spaCy version (2.3.8). This may lead to unexpected results or runtime errors. To resolve this, download a newer compatible model or retrain your custom model with the current spaCy version. For more details and available updates, run: python -m spacy validate\n",
      "  warnings.warn(warn_msg)\n"
     ]
    },
    {
     "ename": "NameError",
     "evalue": "name 'filename' is not defined",
     "output_type": "error",
     "traceback": [
      "\u001B[1;31m---------------------------------------------------------------------------\u001B[0m",
      "\u001B[1;31mNameError\u001B[0m                                 Traceback (most recent call last)",
      "\u001B[1;32m<ipython-input-5-a1adf2a3d47c>\u001B[0m in \u001B[0;36m<module>\u001B[1;34m\u001B[0m\n\u001B[0;32m      5\u001B[0m     \u001B[0mtempFile\u001B[0m\u001B[1;33m=\u001B[0m\u001B[1;34m\"DATA\\\\\"\u001B[0m\u001B[1;33m+\u001B[0m\u001B[0mfileName\u001B[0m\u001B[1;33m\u001B[0m\u001B[1;33m\u001B[0m\u001B[0m\n\u001B[0;32m      6\u001B[0m     \u001B[0mfileNames\u001B[0m\u001B[1;33m.\u001B[0m\u001B[0mappend\u001B[0m\u001B[1;33m(\u001B[0m\u001B[0mtempFile\u001B[0m\u001B[1;33m)\u001B[0m\u001B[1;33m\u001B[0m\u001B[1;33m\u001B[0m\u001B[0m\n\u001B[1;32m----> 7\u001B[1;33m     \u001B[0mresumeparse\u001B[0m\u001B[1;33m.\u001B[0m\u001B[0mread_file\u001B[0m\u001B[1;33m(\u001B[0m\u001B[0mfilename\u001B[0m\u001B[1;33m)\u001B[0m\u001B[1;33m\u001B[0m\u001B[1;33m\u001B[0m\u001B[0m\n\u001B[0m\u001B[0;32m      8\u001B[0m \u001B[0mprint\u001B[0m\u001B[1;33m(\u001B[0m\u001B[0mfileNames\u001B[0m\u001B[1;33m)\u001B[0m\u001B[1;33m\u001B[0m\u001B[1;33m\u001B[0m\u001B[0m\n\u001B[0;32m      9\u001B[0m \u001B[1;33m\u001B[0m\u001B[0m\n",
      "\u001B[1;31mNameError\u001B[0m: name 'filename' is not defined"
     ]
    }
   ],
   "source": [
    "import os\n",
    "from resume_parser import resumeparse\n",
    "fileNames = []\n",
    "for fileName in os.listdir(\"DATA\"):\n",
    "    tempFile=\"DATA\\\\\"+fileName\n",
    "    fileNames.append(tempFile)\n",
    "    resumeparse.read_file(filename)\n",
    "print(fileNames)\n",
    "\n"
   ]
  },
  {
   "cell_type": "code",
   "execution_count": null,
   "outputs": [],
   "source": [
    "import glob\n",
    "from resume_parser import resumeparse\n",
    "path =\"C:\\\\Users\\\\ddnfn\\\\IdeaProjects\\\\resume_parser\\\\DATA*\\\\*.pdf\"\n",
    "for file in glob.iglob(path, recursive=True):\n",
    "    resumeparse.read_file(file)"
   ],
   "metadata": {
    "collapsed": false
   }
  },
  {
   "cell_type": "code",
   "execution_count": null,
   "outputs": [],
   "source": [],
   "metadata": {
    "collapsed": false
   }
  },
  {
   "cell_type": "code",
   "execution_count": 14,
   "outputs": [
    {
     "data": {
      "text/plain": "{'email': 'omr.ylz7929@gmail.com',\n 'phone': '+905392043251',\n 'name': '',\n 'total_exp': 0,\n 'university': [],\n 'designition': ['software developer',\n  'product owner',\n  'owner',\n  'software engineer',\n  'engineer specialist',\n  'junior software developer'],\n 'degree': [],\n 'skills': ['ise',\n  'app',\n  'jenkins',\n  'mysql',\n  'bootstrap',\n  'her',\n  'studio',\n  'cep',\n  'visual studio',\n  'visual studio code',\n  'git',\n  'asp.net mvc',\n  'iis',\n  'tic',\n  'python',\n  'forms',\n  'web',\n  'django',\n  'react.js',\n  'bosch',\n  'sonarqube',\n  'mvc',\n  'excel',\n  'it',\n  'intranet',\n  'c',\n  'cem',\n  'soap',\n  'asp.net',\n  'github',\n  'windows',\n  'c#',\n  'sqlite'],\n 'Companies worked at': []}"
     },
     "execution_count": 14,
     "metadata": {},
     "output_type": "execute_result"
    }
   ],
   "source": [
    "from resume_parser import resumeparse\n",
    "resumeparse.read_file(\"DATA/deneme.txt\")"
   ],
   "metadata": {
    "collapsed": false
   }
  },
  {
   "cell_type": "code",
   "execution_count": 13,
   "metadata": {},
   "outputs": [],
   "source": [
    "import spacy\n",
    "from spacy.matcher import Matcher\n",
    "from spacy.matcher import PhraseMatcher\n",
    "import os\n",
    "nlp = spacy.load('en_core_web_sm')\n",
    "# initialize matcher with a vocab\n",
    "matcher = Matcher(nlp.vocab)\n",
    "\n",
    "base_path = \"resume_parser/\"\n",
    "\n",
    "file = os.path.join(base_path,\"titles_combined.txt\")\n",
    "file = open(file, \"r\", encoding='utf-8')\n",
    "designation = [line.strip().lower() for line in file]\n",
    "designitionmatcher = PhraseMatcher(nlp.vocab)\n",
    "patterns = [nlp.make_doc(text) for text in designation if len(nlp.make_doc(text)) < 10]"
   ]
  },
  {
   "cell_type": "code",
   "execution_count": null,
   "metadata": {},
   "outputs": [],
   "source": [
    "len(patterns)"
   ]
  },
  {
   "cell_type": "code",
   "execution_count": null,
   "metadata": {},
   "outputs": [],
   "source": [
    "import pickle \n",
    "pickle.dump(patterns, open(\"patterns.pkl\",\"wb\"))"
   ]
  },
  {
   "cell_type": "code",
   "execution_count": null,
   "metadata": {},
   "outputs": [],
   "source": [
    "patterns1 = pickle.load(open(\"patterns.pkl\",\"rb\"))\n",
    "len(patterns1)"
   ]
  },
  {
   "cell_type": "code",
   "execution_count": null,
   "metadata": {},
   "outputs": [],
   "source": [
    "patterns[0], patterns1[0]"
   ]
  },
  {
   "cell_type": "code",
   "execution_count": null,
   "metadata": {},
   "outputs": [],
   "source": []
  }
 ],
 "metadata": {
  "colab": {
   "name": "example.ipynb",
   "provenance": []
  },
  "kernelspec": {
   "display_name": "Python 3",
   "language": "python",
   "name": "python3"
  },
  "language_info": {
   "codemirror_mode": {
    "name": "ipython",
    "version": 3
   },
   "file_extension": ".py",
   "mimetype": "text/x-python",
   "name": "python",
   "nbconvert_exporter": "python",
   "pygments_lexer": "ipython3",
   "version": "3.6.6"
  }
 },
 "nbformat": 4,
 "nbformat_minor": 1
}
